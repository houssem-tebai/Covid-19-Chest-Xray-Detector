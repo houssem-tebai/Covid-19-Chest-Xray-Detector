{
  "nbformat": 4,
  "nbformat_minor": 0,
  "metadata": {
    "colab": {
      "name": "Covid-19-Chest-Xray-V3.ipynb",
      "provenance": []
    },
    "kernelspec": {
      "name": "python3",
      "display_name": "Python 3"
    }
  },
  "cells": [
    {
      "cell_type": "markdown",
      "metadata": {
        "id": "F0Af9z11XsUm",
        "colab_type": "text"
      },
      "source": [
        "#1) import libraries"
      ]
    },
    {
      "cell_type": "code",
      "metadata": {
        "id": "2DpYT0SZXTeX",
        "colab_type": "code",
        "colab": {}
      },
      "source": [
        "from google.colab import drive\n",
        "\n",
        "import tensorflow as tf\n",
        "\n",
        "from tensorflow import keras\n",
        "from tensorflow.keras import layers\n",
        "from tensorflow.keras.models import Model\n",
        "\n",
        "from keras.preprocessing.image import ImageDataGenerator, load_img"
      ],
      "execution_count": 0,
      "outputs": []
    },
    {
      "cell_type": "markdown",
      "metadata": {
        "id": "l6UZiKeNX3Gg",
        "colab_type": "text"
      },
      "source": [
        "#2) Map my google Drive to import dataset"
      ]
    },
    {
      "cell_type": "code",
      "metadata": {
        "id": "qjdOCCV7X2Ul",
        "colab_type": "code",
        "outputId": "26a531fb-c58e-4810-9fb6-30951e94543f",
        "colab": {
          "base_uri": "https://localhost:8080/",
          "height": 121
        }
      },
      "source": [
        "drive.mount('/content/gdrive')\n",
        "main_path = 'gdrive/My Drive/covid-19-dataset/'\n",
        "\n",
        "train_path = 'gdrive/My Drive/covid-19-dataset/train'\n",
        "test_path = 'gdrive/My Drive/covid-19-dataset/test'\n",
        "val_path = 'gdrive/My Drive/covid-19-dataset/val'"
      ],
      "execution_count": 0,
      "outputs": [
        {
          "output_type": "stream",
          "text": [
            "Go to this URL in a browser: https://accounts.google.com/o/oauth2/auth?client_id=947318989803-6bn6qk8qdgf4n4g3pfee6491hc0brc4i.apps.googleusercontent.com&redirect_uri=urn%3aietf%3awg%3aoauth%3a2.0%3aoob&response_type=code&scope=email%20https%3a%2f%2fwww.googleapis.com%2fauth%2fdocs.test%20https%3a%2f%2fwww.googleapis.com%2fauth%2fdrive%20https%3a%2f%2fwww.googleapis.com%2fauth%2fdrive.photos.readonly%20https%3a%2f%2fwww.googleapis.com%2fauth%2fpeopleapi.readonly\n",
            "\n",
            "Enter your authorization code:\n",
            "··········\n",
            "Mounted at /content/gdrive\n"
          ],
          "name": "stdout"
        }
      ]
    },
    {
      "cell_type": "markdown",
      "metadata": {
        "id": "PeaC4hCYYEXJ",
        "colab_type": "text"
      },
      "source": [
        "#3) Creating the model"
      ]
    },
    {
      "cell_type": "code",
      "metadata": {
        "id": "uBPG2PNKYMiA",
        "colab_type": "code",
        "colab": {}
      },
      "source": [
        "model = keras.Sequential([\n",
        "    layers.Conv2D(32, (3,3), activation='relu', input_shape=(320,320,3)),\n",
        "    layers.MaxPooling2D(pool_size= (2,2)),\n",
        "    layers.Conv2D(32, (3,3), activation='relu'),\n",
        "    layers.MaxPooling2D(pool_size= (2,2)),\n",
        "    layers.Conv2D(64, (3,3), activation='relu'),\n",
        "    layers.MaxPooling2D(pool_size= (2,2)),\n",
        "    layers.Conv2D(128, (3,3), activation='relu'),\n",
        "    layers.MaxPooling2D(pool_size= (2,2)),\n",
        "    layers.Conv2D(128, (3,3), activation='relu'),\n",
        "    layers.MaxPooling2D(pool_size= (2,2)),\n",
        "    layers.Flatten(),\n",
        "    layers.Dense(activation='relu', units=1280),\n",
        "    layers.Dense(activation='sigmoid', units=1)\n",
        "    ])\n",
        "\n",
        "model.compile(optimizer= 'adam', loss='binary_crossentropy', metrics=['accuracy'])"
      ],
      "execution_count": 0,
      "outputs": []
    },
    {
      "cell_type": "markdown",
      "metadata": {
        "id": "loKL7R3wYZOF",
        "colab_type": "text"
      },
      "source": [
        "#4) Generating more Data"
      ]
    },
    {
      "cell_type": "code",
      "metadata": {
        "id": "Gb_RraHLYrXm",
        "colab_type": "code",
        "outputId": "a4b16718-8a31-446b-c1d3-a9908e19afaf",
        "colab": {
          "base_uri": "https://localhost:8080/",
          "height": 638
        }
      },
      "source": [
        "batch=10\n",
        "train_datagen= ImageDataGenerator(rescale= 1./255, \n",
        "                                  shear_range=0.2, \n",
        "                                  zoom_range= 0.2, \n",
        "                                  rotation_range=20, \n",
        "                                  horizontal_flip=True)\n",
        "\n",
        "test_datagen= ImageDataGenerator(rescale= 1./255)\n",
        "\n",
        "training_set= train_datagen.flow_from_directory(train_path, target_size= (320,320), batch_size=batch, class_mode='binary')\n",
        "test_set= test_datagen.flow_from_directory(test_path, target_size= (320,320), batch_size=batch, class_mode='binary')\n",
        "val_set= test_datagen.flow_from_directory(val_path, target_size= (320,320), batch_size=batch, class_mode='binary')\n",
        "\n",
        "model.summary()"
      ],
      "execution_count": 0,
      "outputs": [
        {
          "output_type": "stream",
          "text": [
            "Found 465 images belonging to 2 classes.\n",
            "Found 20 images belonging to 2 classes.\n",
            "Found 55 images belonging to 2 classes.\n",
            "Model: \"sequential_1\"\n",
            "_________________________________________________________________\n",
            "Layer (type)                 Output Shape              Param #   \n",
            "=================================================================\n",
            "conv2d_5 (Conv2D)            (None, 318, 318, 32)      896       \n",
            "_________________________________________________________________\n",
            "max_pooling2d_5 (MaxPooling2 (None, 159, 159, 32)      0         \n",
            "_________________________________________________________________\n",
            "conv2d_6 (Conv2D)            (None, 157, 157, 32)      9248      \n",
            "_________________________________________________________________\n",
            "max_pooling2d_6 (MaxPooling2 (None, 78, 78, 32)        0         \n",
            "_________________________________________________________________\n",
            "conv2d_7 (Conv2D)            (None, 76, 76, 64)        18496     \n",
            "_________________________________________________________________\n",
            "max_pooling2d_7 (MaxPooling2 (None, 38, 38, 64)        0         \n",
            "_________________________________________________________________\n",
            "conv2d_8 (Conv2D)            (None, 36, 36, 128)       73856     \n",
            "_________________________________________________________________\n",
            "max_pooling2d_8 (MaxPooling2 (None, 18, 18, 128)       0         \n",
            "_________________________________________________________________\n",
            "conv2d_9 (Conv2D)            (None, 16, 16, 128)       147584    \n",
            "_________________________________________________________________\n",
            "max_pooling2d_9 (MaxPooling2 (None, 8, 8, 128)         0         \n",
            "_________________________________________________________________\n",
            "flatten_1 (Flatten)          (None, 8192)              0         \n",
            "_________________________________________________________________\n",
            "dense_2 (Dense)              (None, 1280)              10487040  \n",
            "_________________________________________________________________\n",
            "dense_3 (Dense)              (None, 1)                 1281      \n",
            "=================================================================\n",
            "Total params: 10,738,401\n",
            "Trainable params: 10,738,401\n",
            "Non-trainable params: 0\n",
            "_________________________________________________________________\n"
          ],
          "name": "stdout"
        }
      ]
    },
    {
      "cell_type": "markdown",
      "metadata": {
        "id": "tyzZv69TYy4o",
        "colab_type": "text"
      },
      "source": [
        "#5) Training the Model"
      ]
    },
    {
      "cell_type": "code",
      "metadata": {
        "id": "wn4Icg23YuKm",
        "colab_type": "code",
        "outputId": "a1b188d5-210f-40e1-a842-85eca709d626",
        "colab": {
          "base_uri": "https://localhost:8080/",
          "height": 521
        }
      },
      "source": [
        "history= model.fit_generator(training_set, steps_per_epoch= 46, epochs = 15, validation_data= val_set, validation_steps=5)"
      ],
      "execution_count": 0,
      "outputs": [
        {
          "output_type": "stream",
          "text": [
            "Epoch 1/15\n",
            "46/46 [==============================] - 75s 2s/step - loss: 0.6565 - accuracy: 0.6176 - val_loss: 0.5269 - val_accuracy: 0.6800\n",
            "Epoch 2/15\n",
            "46/46 [==============================] - 75s 2s/step - loss: 0.4382 - accuracy: 0.7956 - val_loss: 0.5664 - val_accuracy: 0.7400\n",
            "Epoch 3/15\n",
            "46/46 [==============================] - 74s 2s/step - loss: 0.3379 - accuracy: 0.8681 - val_loss: 0.4299 - val_accuracy: 0.8200\n",
            "Epoch 4/15\n",
            "46/46 [==============================] - 74s 2s/step - loss: 0.3114 - accuracy: 0.8857 - val_loss: 0.5950 - val_accuracy: 0.7800\n",
            "Epoch 5/15\n",
            "46/46 [==============================] - 74s 2s/step - loss: 0.2928 - accuracy: 0.8725 - val_loss: 0.4936 - val_accuracy: 0.7800\n",
            "Epoch 6/15\n",
            "46/46 [==============================] - 74s 2s/step - loss: 0.2826 - accuracy: 0.8967 - val_loss: 0.4704 - val_accuracy: 0.8000\n",
            "Epoch 7/15\n",
            "46/46 [==============================] - 78s 2s/step - loss: 0.2867 - accuracy: 0.8923 - val_loss: 0.5018 - val_accuracy: 0.7600\n",
            "Epoch 8/15\n",
            "46/46 [==============================] - 75s 2s/step - loss: 0.2712 - accuracy: 0.8923 - val_loss: 0.5801 - val_accuracy: 0.7600\n",
            "Epoch 9/15\n",
            "46/46 [==============================] - 74s 2s/step - loss: 0.2681 - accuracy: 0.9011 - val_loss: 0.4236 - val_accuracy: 0.7600\n",
            "Epoch 10/15\n",
            "46/46 [==============================] - 74s 2s/step - loss: 0.2652 - accuracy: 0.9099 - val_loss: 0.6526 - val_accuracy: 0.7800\n",
            "Epoch 11/15\n",
            "46/46 [==============================] - 74s 2s/step - loss: 0.2360 - accuracy: 0.9143 - val_loss: 0.5340 - val_accuracy: 0.7800\n",
            "Epoch 12/15\n",
            "46/46 [==============================] - 78s 2s/step - loss: 0.2337 - accuracy: 0.9253 - val_loss: 0.5886 - val_accuracy: 0.7600\n",
            "Epoch 13/15\n",
            "46/46 [==============================] - 77s 2s/step - loss: 0.2499 - accuracy: 0.9077 - val_loss: 0.4556 - val_accuracy: 0.7800\n",
            "Epoch 14/15\n",
            "46/46 [==============================] - 75s 2s/step - loss: 0.2566 - accuracy: 0.9011 - val_loss: 0.4252 - val_accuracy: 0.8000\n",
            "Epoch 15/15\n",
            "46/46 [==============================] - 81s 2s/step - loss: 0.2472 - accuracy: 0.9143 - val_loss: 0.3915 - val_accuracy: 0.8200\n"
          ],
          "name": "stdout"
        }
      ]
    },
    {
      "cell_type": "markdown",
      "metadata": {
        "id": "NwxQG-eWY7yY",
        "colab_type": "text"
      },
      "source": [
        "#6) Testing the Model with the Valadation Data"
      ]
    },
    {
      "cell_type": "code",
      "metadata": {
        "id": "vFl_pXdTZDKO",
        "colab_type": "code",
        "outputId": "d0b5b133-04b1-4cf9-ace8-8dcbb0c25666",
        "colab": {
          "base_uri": "https://localhost:8080/",
          "height": 121
        }
      },
      "source": [
        "test_accu = model.evaluate_generator(test_set, steps=20)\n",
        "\n",
        "print('The testing accuracy is :',test_accu[1]*100, '%')"
      ],
      "execution_count": 0,
      "outputs": [
        {
          "output_type": "stream",
          "text": [
            "WARNING:tensorflow:From <ipython-input-11-c8a0510aea5c>:1: Model.evaluate_generator (from tensorflow.python.keras.engine.training) is deprecated and will be removed in a future version.\n",
            "Instructions for updating:\n",
            "Please use Model.evaluate, which supports generators.\n",
            "WARNING:tensorflow:Your input ran out of data; interrupting training. Make sure that your dataset or generator can generate at least `steps_per_epoch * epochs` batches (in this case, 20 batches). You may need to use the repeat() function when building your dataset.\n",
            "The testing accuracy is : 75.0 %\n"
          ],
          "name": "stdout"
        }
      ]
    },
    {
      "cell_type": "markdown",
      "metadata": {
        "id": "QbUze7VJZhJg",
        "colab_type": "text"
      },
      "source": [
        "#7) Export the Model with SavedModel Format to be used with tensorflow serving"
      ]
    },
    {
      "cell_type": "code",
      "metadata": {
        "id": "bIhz06CJZ6EE",
        "colab_type": "code",
        "colab": {}
      },
      "source": [
        "version= 7\n",
        "tf.saved_model.save(model, 'gdrive/My Drive/covid-19-dataset/saved-model/' + str(version))"
      ],
      "execution_count": 0,
      "outputs": []
    }
  ]
}
